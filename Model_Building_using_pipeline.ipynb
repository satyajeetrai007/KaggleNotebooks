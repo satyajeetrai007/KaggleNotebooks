{
  "metadata": {
    "kernelspec": {
      "language": "python",
      "display_name": "Python 3",
      "name": "python3"
    },
    "language_info": {
      "name": "python",
      "version": "3.10.13",
      "mimetype": "text/x-python",
      "codemirror_mode": {
        "name": "ipython",
        "version": 3
      },
      "pygments_lexer": "ipython3",
      "nbconvert_exporter": "python",
      "file_extension": ".py"
    },
    "kaggle": {
      "accelerator": "none",
      "dataSources": [
        {
          "sourceId": 73291,
          "databundleVersionId": 8930475,
          "sourceType": "competition"
        }
      ],
      "dockerImageVersionId": 30732,
      "isInternetEnabled": true,
      "language": "python",
      "sourceType": "notebook",
      "isGpuEnabled": false
    },
    "colab": {
      "name": "Model Building using pipeline",
      "provenance": [],
      "include_colab_link": true
    }
  },
  "nbformat_minor": 0,
  "nbformat": 4,
  "cells": [
    {
      "cell_type": "markdown",
      "metadata": {
        "id": "view-in-github",
        "colab_type": "text"
      },
      "source": [
        "<a href=\"https://colab.research.google.com/github/satyajeetrai007/KaggleNotebooks/blob/main/Model_Building_using_pipeline.ipynb\" target=\"_parent\"><img src=\"https://colab.research.google.com/assets/colab-badge.svg\" alt=\"Open In Colab\"/></a>"
      ]
    },
    {
      "source": [
        "\n",
        "# IMPORTANT: RUN THIS CELL IN ORDER TO IMPORT YOUR KAGGLE DATA SOURCES\n",
        "# TO THE CORRECT LOCATION (/kaggle/input) IN YOUR NOTEBOOK,\n",
        "# THEN FEEL FREE TO DELETE THIS CELL.\n",
        "# NOTE: THIS NOTEBOOK ENVIRONMENT DIFFERS FROM KAGGLE'S PYTHON\n",
        "# ENVIRONMENT SO THERE MAY BE MISSING LIBRARIES USED BY YOUR\n",
        "# NOTEBOOK.\n",
        "\n",
        "import os\n",
        "import sys\n",
        "from tempfile import NamedTemporaryFile\n",
        "from urllib.request import urlopen\n",
        "from urllib.parse import unquote, urlparse\n",
        "from urllib.error import HTTPError\n",
        "from zipfile import ZipFile\n",
        "import tarfile\n",
        "import shutil\n",
        "\n",
        "CHUNK_SIZE = 40960\n",
        "DATA_SOURCE_MAPPING = 'playground-series-s4e7:https%3A%2F%2Fstorage.googleapis.com%2Fkaggle-competitions-data%2Fkaggle-v2%2F73291%2F8930475%2Fbundle%2Farchive.zip%3FX-Goog-Algorithm%3DGOOG4-RSA-SHA256%26X-Goog-Credential%3Dgcp-kaggle-com%2540kaggle-161607.iam.gserviceaccount.com%252F20240711%252Fauto%252Fstorage%252Fgoog4_request%26X-Goog-Date%3D20240711T092827Z%26X-Goog-Expires%3D259200%26X-Goog-SignedHeaders%3Dhost%26X-Goog-Signature%3D4e0fd23c5a29e4695b38dbbf41b1efd734caaccc131e2dc979ae4b216f4083a4afd71f5de33f9bf88e75581690458a68e6672478b345e34b29720df160eb6b33b0cf60017783b5c4fc835fd157e64b3470fbe4825c88f3cc3d7ae9a879cdd2f059c8c29b11d4e0a91f542c9c482d5e1d1ad58d2c3acf4fb83d9e47b5a3cd981c51696c23231842989268eee965c72a2fa564623829ee8486adf5880479c9f478287c571ae8d0c1c2b34f71504a8c9530fa05f3c95e196419c27583f9b6b5748ef59b1cbedfa3babfcce222f40941e39331c73e5bd320edd17d188431790ac712c51273af6527945aa11a8bd11daf02abb2e96508f9b9b12de6b6c6e1cdddc318'\n",
        "\n",
        "KAGGLE_INPUT_PATH='/kaggle/input'\n",
        "KAGGLE_WORKING_PATH='/kaggle/working'\n",
        "KAGGLE_SYMLINK='kaggle'\n",
        "\n",
        "!umount /kaggle/input/ 2> /dev/null\n",
        "shutil.rmtree('/kaggle/input', ignore_errors=True)\n",
        "os.makedirs(KAGGLE_INPUT_PATH, 0o777, exist_ok=True)\n",
        "os.makedirs(KAGGLE_WORKING_PATH, 0o777, exist_ok=True)\n",
        "\n",
        "try:\n",
        "  os.symlink(KAGGLE_INPUT_PATH, os.path.join(\"..\", 'input'), target_is_directory=True)\n",
        "except FileExistsError:\n",
        "  pass\n",
        "try:\n",
        "  os.symlink(KAGGLE_WORKING_PATH, os.path.join(\"..\", 'working'), target_is_directory=True)\n",
        "except FileExistsError:\n",
        "  pass\n",
        "\n",
        "for data_source_mapping in DATA_SOURCE_MAPPING.split(','):\n",
        "    directory, download_url_encoded = data_source_mapping.split(':')\n",
        "    download_url = unquote(download_url_encoded)\n",
        "    filename = urlparse(download_url).path\n",
        "    destination_path = os.path.join(KAGGLE_INPUT_PATH, directory)\n",
        "    try:\n",
        "        with urlopen(download_url) as fileres, NamedTemporaryFile() as tfile:\n",
        "            total_length = fileres.headers['content-length']\n",
        "            print(f'Downloading {directory}, {total_length} bytes compressed')\n",
        "            dl = 0\n",
        "            data = fileres.read(CHUNK_SIZE)\n",
        "            while len(data) > 0:\n",
        "                dl += len(data)\n",
        "                tfile.write(data)\n",
        "                done = int(50 * dl / int(total_length))\n",
        "                sys.stdout.write(f\"\\r[{'=' * done}{' ' * (50-done)}] {dl} bytes downloaded\")\n",
        "                sys.stdout.flush()\n",
        "                data = fileres.read(CHUNK_SIZE)\n",
        "            if filename.endswith('.zip'):\n",
        "              with ZipFile(tfile) as zfile:\n",
        "                zfile.extractall(destination_path)\n",
        "            else:\n",
        "              with tarfile.open(tfile.name) as tarfile:\n",
        "                tarfile.extractall(destination_path)\n",
        "            print(f'\\nDownloaded and uncompressed: {directory}')\n",
        "    except HTTPError as e:\n",
        "        print(f'Failed to load (likely expired) {download_url} to path {destination_path}')\n",
        "        continue\n",
        "    except OSError as e:\n",
        "        print(f'Failed to load {download_url} to path {destination_path}')\n",
        "        continue\n",
        "\n",
        "print('Data source import complete.')\n"
      ],
      "metadata": {
        "id": "o1PyTVpLiLxE"
      },
      "cell_type": "code",
      "outputs": [],
      "execution_count": null
    },
    {
      "cell_type": "code",
      "source": [
        "# This Python 3 environment comes with many helpful analytics libraries installed\n",
        "# It is defined by the kaggle/python Docker image: https://github.com/kaggle/docker-python\n",
        "# For example, here's several helpful packages to load\n",
        "\n",
        "import numpy as np # linear algebra\n",
        "import pandas as pd # data processing, CSV file I/O (e.g. pd.read_csv)\n",
        "\n",
        "# Input data files are available in the read-only \"../input/\" directory\n",
        "# For example, running this (by clicking run or pressing Shift+Enter) will list all files under the input directory\n",
        "\n",
        "import os\n",
        "for dirname, _, filenames in os.walk('/kaggle/input'):\n",
        "    for filename in filenames:\n",
        "        print(os.path.join(dirname, filename))\n",
        "\n",
        "# You can write up to 20GB to the current directory (/kaggle/working/) that gets preserved as output when you create a version using \"Save & Run All\"\n",
        "# You can also write temporary files to /kaggle/temp/, but they won't be saved outside of the current session"
      ],
      "metadata": {
        "_uuid": "8f2839f25d086af736a60e9eeb907d3b93b6e0e5",
        "_cell_guid": "b1076dfc-b9ad-4769-8c92-a6c4dae69d19",
        "execution": {
          "iopub.status.busy": "2024-07-11T09:26:25.622216Z",
          "iopub.execute_input": "2024-07-11T09:26:25.622603Z",
          "iopub.status.idle": "2024-07-11T09:26:26.846805Z",
          "shell.execute_reply.started": "2024-07-11T09:26:25.622574Z",
          "shell.execute_reply": "2024-07-11T09:26:26.845371Z"
        },
        "trusted": true,
        "id": "COfR-OXuiLxH",
        "outputId": "ab8780ec-a3d3-48cc-c370-2f563fa0d83c"
      },
      "execution_count": null,
      "outputs": [
        {
          "name": "stdout",
          "text": "/kaggle/input/playground-series-s4e7/sample_submission.csv\n/kaggle/input/playground-series-s4e7/train.csv\n/kaggle/input/playground-series-s4e7/test.csv\n",
          "output_type": "stream"
        }
      ]
    },
    {
      "cell_type": "code",
      "source": [
        "import pandas as pd\n",
        "import numpy as np\n",
        "from sklearn.compose import ColumnTransformer\n",
        "from sklearn.pipeline import Pipeline\n",
        "from sklearn.decomposition import PCA\n",
        "from sklearn.preprocessing import StandardScaler,OneHotEncoder,OrdinalEncoder\n",
        "from sklearn.ensemble import HistGradientBoostingClassifier\n",
        "from sklearn.model_selection import train_test_split\n"
      ],
      "metadata": {
        "execution": {
          "iopub.status.busy": "2024-07-11T09:26:26.849497Z",
          "iopub.execute_input": "2024-07-11T09:26:26.850315Z",
          "iopub.status.idle": "2024-07-11T09:26:28.555524Z",
          "shell.execute_reply.started": "2024-07-11T09:26:26.850258Z",
          "shell.execute_reply": "2024-07-11T09:26:28.554306Z"
        },
        "trusted": true,
        "id": "JjysN5dBiLxJ"
      },
      "execution_count": null,
      "outputs": []
    },
    {
      "cell_type": "code",
      "source": [
        "train = pd.read_csv('/kaggle/input/playground-series-s4e7/train.csv')\n",
        "test = pd.read_csv('/kaggle/input/playground-series-s4e7/test.csv')"
      ],
      "metadata": {
        "execution": {
          "iopub.status.busy": "2024-07-11T09:26:28.557181Z",
          "iopub.execute_input": "2024-07-11T09:26:28.557541Z",
          "iopub.status.idle": "2024-07-11T09:27:03.221476Z",
          "shell.execute_reply.started": "2024-07-11T09:26:28.55751Z",
          "shell.execute_reply": "2024-07-11T09:27:03.220213Z"
        },
        "trusted": true,
        "id": "TOrCCrtFiLxJ"
      },
      "execution_count": null,
      "outputs": []
    },
    {
      "cell_type": "code",
      "source": [
        "id = test['id']\n",
        "train.drop(['id'],inplace = True,axis = 1)\n",
        "test.drop(['id'],inplace = True,axis = 1)"
      ],
      "metadata": {
        "execution": {
          "iopub.status.busy": "2024-07-11T09:27:03.224313Z",
          "iopub.execute_input": "2024-07-11T09:27:03.224774Z",
          "iopub.status.idle": "2024-07-11T09:27:04.510497Z",
          "shell.execute_reply.started": "2024-07-11T09:27:03.224735Z",
          "shell.execute_reply": "2024-07-11T09:27:04.509044Z"
        },
        "trusted": true,
        "id": "LdfxERM6iLxM"
      },
      "execution_count": null,
      "outputs": []
    },
    {
      "cell_type": "code",
      "source": [
        "x_train, x_test, y_train, y_test= train_test_split(train.iloc[:,:-1],train.iloc[:,-1],test_size = 0.2,random_state=12)"
      ],
      "metadata": {
        "execution": {
          "iopub.status.busy": "2024-07-11T09:27:04.51211Z",
          "iopub.execute_input": "2024-07-11T09:27:04.513101Z",
          "iopub.status.idle": "2024-07-11T09:27:11.973358Z",
          "shell.execute_reply.started": "2024-07-11T09:27:04.513053Z",
          "shell.execute_reply": "2024-07-11T09:27:11.972157Z"
        },
        "trusted": true,
        "id": "NLtTY4nmiLxM"
      },
      "execution_count": null,
      "outputs": []
    },
    {
      "cell_type": "code",
      "source": [
        "# col transformer for handling categorical columns\n",
        "ColTransformer = ColumnTransformer(transformers =\n",
        "[('trf1',OneHotEncoder(drop = 'first',sparse_output = False),[1,7]),\n",
        "('trf2',OrdinalEncoder(categories=[['< 1 Year','1-2 Year','> 2 Years']]),[6])\n",
        "                                               ],remainder = 'passthrough')\n",
        "# Pipeline\n",
        "pipeline = Pipeline([('column transformer',ColTransformer),\n",
        "                    ('Scaling',StandardScaler()),\n",
        "                    ('PCA',PCA(n_components=2)),\n",
        "                    ])"
      ],
      "metadata": {
        "execution": {
          "iopub.status.busy": "2024-07-11T09:27:11.974969Z",
          "iopub.execute_input": "2024-07-11T09:27:11.975483Z",
          "iopub.status.idle": "2024-07-11T09:27:11.983086Z",
          "shell.execute_reply.started": "2024-07-11T09:27:11.975436Z",
          "shell.execute_reply": "2024-07-11T09:27:11.981846Z"
        },
        "trusted": true,
        "id": "exM_dMwsiLxN"
      },
      "execution_count": null,
      "outputs": []
    },
    {
      "cell_type": "code",
      "source": [
        "from sklearn import set_config\n",
        "set_config(display='diagram')"
      ],
      "metadata": {
        "execution": {
          "iopub.status.busy": "2024-07-11T09:27:11.984706Z",
          "iopub.execute_input": "2024-07-11T09:27:11.985142Z",
          "iopub.status.idle": "2024-07-11T09:27:11.993965Z",
          "shell.execute_reply.started": "2024-07-11T09:27:11.985108Z",
          "shell.execute_reply": "2024-07-11T09:27:11.992955Z"
        },
        "trusted": true,
        "id": "zaT3zHnLiLxN"
      },
      "execution_count": null,
      "outputs": []
    },
    {
      "cell_type": "code",
      "source": [
        "pipeline.fit_transform(x_train)"
      ],
      "metadata": {
        "execution": {
          "iopub.status.busy": "2024-07-11T09:27:11.995309Z",
          "iopub.execute_input": "2024-07-11T09:27:11.995649Z"
        },
        "trusted": true,
        "id": "7P5wFgbGiLxN"
      },
      "execution_count": null,
      "outputs": []
    },
    {
      "cell_type": "code",
      "source": [],
      "metadata": {
        "id": "23u2FywxiLxO"
      },
      "execution_count": null,
      "outputs": []
    }
  ]
}